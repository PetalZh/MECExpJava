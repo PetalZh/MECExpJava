{
 "cells": [
  {
   "cell_type": "code",
   "execution_count": null,
   "id": "ea4ce167-9482-4c1e-b43c-5daccbc04be4",
   "metadata": {},
   "outputs": [],
   "source": [
    "class ResultValue:\n",
    "    def __init__(self, en, cost, time):\n",
    "        self.en = en\n",
    "        self.cost = cost\n",
    "        self.time = time\n",
    "        "
   ]
  }
 ],
 "metadata": {
  "kernelspec": {
   "display_name": "Python 3 (ipykernel)",
   "language": "python",
   "name": "python3"
  },
  "language_info": {
   "codemirror_mode": {
    "name": "ipython",
    "version": 3
   },
   "file_extension": ".py",
   "mimetype": "text/x-python",
   "name": "python",
   "nbconvert_exporter": "python",
   "pygments_lexer": "ipython3",
   "version": "3.9.2"
  }
 },
 "nbformat": 4,
 "nbformat_minor": 5
}
