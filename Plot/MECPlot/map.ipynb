{
 "cells": [
  {
   "cell_type": "code",
   "execution_count": 7,
   "id": "7498fa81-955c-4979-b979-8f80357aca02",
   "metadata": {},
   "outputs": [],
   "source": [
    "import folium\n",
    "\n",
    "latitude = 31.2304\n",
    "longitude = 121.4737\n",
    "\n",
    "colors = ['red', 'yellow', 'blue', 'green', 'orange', 'purple', 'aqua', 'pink', 'cadetblue', 'orchid']\n",
    "incidents = folium.map.FeatureGroup()\n",
    "\n",
    "#cluster.txt\n",
    "f = open(\"cluster.txt\")\n",
    "lines = f.readlines()\n",
    "\n",
    "i = 0\n",
    "for line in lines:\n",
    "    locations = line.split(\",\")\n",
    "    locations.pop()\n",
    "    for point in locations:\n",
    "        latlng = point.split(\"/\")\n",
    "        incidents.add_child(\n",
    "            folium.CircleMarker(\n",
    "                [latlng[0], latlng[1]],\n",
    "                radius = 1,\n",
    "                color = colors[i]\n",
    "            )\n",
    "        )\n",
    "    i = i + 1\n",
    "\n",
    "shanghai_map = folium.Map(location = [latitude, longitude], zoom_start = 12, tiles='Stamen Toner')\n",
    "shanghai_map.add_child(incidents)\n",
    "\n",
    "shanghai_map.save('map.html')\n"
   ]
  },
  {
   "cell_type": "code",
   "execution_count": null,
   "id": "1321bd21-cd8e-439b-8af1-36cc250621bc",
   "metadata": {},
   "outputs": [],
   "source": []
  },
  {
   "cell_type": "code",
   "execution_count": null,
   "id": "3182aac6-e442-4e2c-ad44-e4ace5f60ec2",
   "metadata": {},
   "outputs": [],
   "source": []
  }
 ],
 "metadata": {
  "kernelspec": {
   "display_name": "Python 3 (ipykernel)",
   "language": "python",
   "name": "python3"
  },
  "language_info": {
   "codemirror_mode": {
    "name": "ipython",
    "version": 3
   },
   "file_extension": ".py",
   "mimetype": "text/x-python",
   "name": "python",
   "nbconvert_exporter": "python",
   "pygments_lexer": "ipython3",
   "version": "3.9.2"
  }
 },
 "nbformat": 4,
 "nbformat_minor": 5
}
